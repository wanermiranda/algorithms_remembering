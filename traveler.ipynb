{
 "cells": [
  {
   "cell_type": "code",
   "execution_count": 48,
   "id": "a85c9847",
   "metadata": {},
   "outputs": [],
   "source": [
    "def gridTraveler(m, n, memo={}):\n",
    "    if m <= 0 or n <= 0: \n",
    "        return 0\n",
    "    if m == n == 1:\n",
    "        return 1\n",
    "    \n",
    "    key = (m,n)\n",
    "    reversed_key = (n,m)\n",
    "    \n",
    "    if memo.get(key): # |m,n| == |n,m|\n",
    "        return memo[key]\n",
    "    elif memo.get(reversed_key):\n",
    "        return memo[reversed_key]    \n",
    "    else: \n",
    "        memo[key] = gridTraveler(m-1, n) + gridTraveler(m, n-1)\n",
    "        return memo[key]\n"
   ]
  },
  {
   "cell_type": "code",
   "execution_count": 49,
   "id": "9918d66b",
   "metadata": {},
   "outputs": [],
   "source": [
    "assert not gridTraveler(0, 1) and not gridTraveler(1, 0)"
   ]
  },
  {
   "cell_type": "code",
   "execution_count": 50,
   "id": "14165ff0",
   "metadata": {},
   "outputs": [],
   "source": [
    "assert gridTraveler(1,3) == 1 and gridTraveler(3, 1) == 1 and gridTraveler(1,1) == 1 and gridTraveler(2,2) == 2"
   ]
  },
  {
   "cell_type": "code",
   "execution_count": 51,
   "id": "cbd73c5f",
   "metadata": {},
   "outputs": [],
   "source": [
    "assert gridTraveler(3,3) == 6"
   ]
  },
  {
   "cell_type": "code",
   "execution_count": 52,
   "id": "0bfa47f6",
   "metadata": {},
   "outputs": [
    {
     "data": {
      "text/plain": [
       "2333606220"
      ]
     },
     "execution_count": 52,
     "metadata": {},
     "output_type": "execute_result"
    }
   ],
   "source": [
    "gridTraveler(18,18)"
   ]
  },
  {
   "cell_type": "code",
   "execution_count": 53,
   "id": "4ff9a4c2",
   "metadata": {},
   "outputs": [],
   "source": [
    "## O(2^(n+m), O(m+n)\n",
    "# O(m*n) == O(m+n); O(n2), O(n)"
   ]
  }
 ],
 "metadata": {
  "kernelspec": {
   "display_name": "Python 3 (ipykernel)",
   "language": "python",
   "name": "python3"
  },
  "language_info": {
   "codemirror_mode": {
    "name": "ipython",
    "version": 3
   },
   "file_extension": ".py",
   "mimetype": "text/x-python",
   "name": "python",
   "nbconvert_exporter": "python",
   "pygments_lexer": "ipython3",
   "version": "3.8.3"
  }
 },
 "nbformat": 4,
 "nbformat_minor": 5
}
