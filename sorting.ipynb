{
 "cells": [
  {
   "cell_type": "code",
   "execution_count": 16,
   "metadata": {},
   "outputs": [],
   "source": [
    "import numpy as np \n",
    "from abc import ABC, abstractmethod"
   ]
  },
  {
   "cell_type": "code",
   "execution_count": 20,
   "metadata": {},
   "outputs": [],
   "source": [
    "class ArraySorter(ABC):\n",
    "    def __init__(self, original:np.array):\n",
    "        self._original = original\n",
    "        self._sorted = None\n",
    "\n",
    "    @abstractmethod\n",
    "    def sort(self) -> np.array:\n",
    "        \"\"\"\"\"\"\n",
    "    \n",
    "    @property\n",
    "    def sorted(self):\n",
    "        if not self.sorted:\n",
    "            self._sorted = self.sort()\n"
   ]
  },
  {
   "cell_type": "code",
   "execution_count": null,
   "metadata": {},
   "outputs": [],
   "source": [
    "class MergeSorter(ArraySorter):\n",
    "    def __init__(self, original: np.array):\n",
    "        super().__init__(original)\n",
    "    \n",
    "    def sort(self) -> np.array:\n",
    "        def merge_sort_internal(arr:np.array):\n",
    "            size = len(arr)\n",
    "            if size > 1:\n",
    "                #split\n",
    "                left = arr[:size/2]\n",
    "                right = arr[size/2:]\n",
    "                \n",
    "                left = merge_sort_internal(left)\n",
    "                right  = merge_sort_internal(right)\n",
    "\n",
    "                l = 0\n",
    "                r = 0 \n",
    "\n",
    "                k = 0\n",
    "\n",
    "                while l < len(left) and r < len(right): \n",
    "                    if left[l] >= right[k]:\n",
    "                        arr[k] = left[l]\n",
    "                        k += 1\n",
    "                        l += 1\n",
    "                    else: \n",
    "                        arr[k] = right[r]\n",
    "                        k += 1\n",
    "                        r += 1\n",
    "\n",
    "                    \n"
   ]
  },
  {
   "cell_type": "code",
   "execution_count": 38,
   "metadata": {},
   "outputs": [],
   "source": [
    "def merge_sort_internal(arr:np.array):\n",
    "    size = len(arr)\n",
    "    if size > 1:\n",
    "        #split\n",
    "        left = arr[:int(size/2)]\n",
    "        right = arr[int(size/2):]\n",
    "        \n",
    "        print(left, right)\n",
    "        \n",
    "        merge_sort_internal(left)\n",
    "        merge_sort_internal(right)\n",
    "\n",
    "        print(left, right)\n",
    "\n",
    "        l = 0\n",
    "        r = 0 \n",
    "\n",
    "        k = 0\n",
    "\n",
    "        while l < len(left) and r < len(right): \n",
    "            if left[l] >= right[k]:\n",
    "                arr[k] = left[l]\n",
    "                k += 1\n",
    "                l += 1\n",
    "            else: \n",
    "                arr[k] = right[r]\n",
    "                k += 1\n",
    "                r += 1\n",
    "\n",
    "        if l < len(left):\n",
    "            while k < size:\n",
    "                arr[k] = left[l]\n",
    "                k += 1\n",
    "                l += 1\n",
    "        if r < len(right):\n",
    "            arr[k] = right[r]\n",
    "            k += 1\n",
    "            r += 1"
   ]
  },
  {
   "cell_type": "code",
   "execution_count": 39,
   "metadata": {},
   "outputs": [
    {
     "name": "stdout",
     "output_type": "stream",
     "text": [
      "[6, 5, 12] [10, 9, 1]\n",
      "[6] [5, 12]\n",
      "[5] [12]\n",
      "[5] [12]\n",
      "[6] [12, 5]\n",
      "[10] [9, 1]\n",
      "[9] [1]\n",
      "[9] [1]\n",
      "[10] [9, 1]\n",
      "[12, 6, 5] [10, 9, 1]\n"
     ]
    },
    {
     "ename": "IndexError",
     "evalue": "list index out of range",
     "output_type": "error",
     "traceback": [
      "\u001b[0;31m---------------------------------------------------------------------------\u001b[0m",
      "\u001b[0;31mIndexError\u001b[0m                                Traceback (most recent call last)",
      "\u001b[0;32m/tmp/ipykernel_24185/1285994195.py\u001b[0m in \u001b[0;36m<module>\u001b[0;34m\u001b[0m\n\u001b[0;32m----> 1\u001b[0;31m \u001b[0mmerge_sort_internal\u001b[0m\u001b[0;34m(\u001b[0m\u001b[0;34m[\u001b[0m\u001b[0;36m6\u001b[0m\u001b[0;34m,\u001b[0m \u001b[0;36m5\u001b[0m\u001b[0;34m,\u001b[0m \u001b[0;36m12\u001b[0m\u001b[0;34m,\u001b[0m \u001b[0;36m10\u001b[0m\u001b[0;34m,\u001b[0m \u001b[0;36m9\u001b[0m\u001b[0;34m,\u001b[0m \u001b[0;36m1\u001b[0m\u001b[0;34m]\u001b[0m\u001b[0;34m)\u001b[0m\u001b[0;34m\u001b[0m\u001b[0;34m\u001b[0m\u001b[0m\n\u001b[0m",
      "\u001b[0;32m/tmp/ipykernel_24185/3533085295.py\u001b[0m in \u001b[0;36mmerge_sort_internal\u001b[0;34m(arr)\u001b[0m\n\u001b[1;32m     19\u001b[0m \u001b[0;34m\u001b[0m\u001b[0m\n\u001b[1;32m     20\u001b[0m         \u001b[0;32mwhile\u001b[0m \u001b[0ml\u001b[0m \u001b[0;34m<\u001b[0m \u001b[0mlen\u001b[0m\u001b[0;34m(\u001b[0m\u001b[0mleft\u001b[0m\u001b[0;34m)\u001b[0m \u001b[0;32mand\u001b[0m \u001b[0mr\u001b[0m \u001b[0;34m<\u001b[0m \u001b[0mlen\u001b[0m\u001b[0;34m(\u001b[0m\u001b[0mright\u001b[0m\u001b[0;34m)\u001b[0m\u001b[0;34m:\u001b[0m\u001b[0;34m\u001b[0m\u001b[0;34m\u001b[0m\u001b[0m\n\u001b[0;32m---> 21\u001b[0;31m             \u001b[0;32mif\u001b[0m \u001b[0mleft\u001b[0m\u001b[0;34m[\u001b[0m\u001b[0ml\u001b[0m\u001b[0;34m]\u001b[0m \u001b[0;34m>=\u001b[0m \u001b[0mright\u001b[0m\u001b[0;34m[\u001b[0m\u001b[0mk\u001b[0m\u001b[0;34m]\u001b[0m\u001b[0;34m:\u001b[0m\u001b[0;34m\u001b[0m\u001b[0;34m\u001b[0m\u001b[0m\n\u001b[0m\u001b[1;32m     22\u001b[0m                 \u001b[0marr\u001b[0m\u001b[0;34m[\u001b[0m\u001b[0mk\u001b[0m\u001b[0;34m]\u001b[0m \u001b[0;34m=\u001b[0m \u001b[0mleft\u001b[0m\u001b[0;34m[\u001b[0m\u001b[0ml\u001b[0m\u001b[0;34m]\u001b[0m\u001b[0;34m\u001b[0m\u001b[0;34m\u001b[0m\u001b[0m\n\u001b[1;32m     23\u001b[0m                 \u001b[0mk\u001b[0m \u001b[0;34m+=\u001b[0m \u001b[0;36m1\u001b[0m\u001b[0;34m\u001b[0m\u001b[0;34m\u001b[0m\u001b[0m\n",
      "\u001b[0;31mIndexError\u001b[0m: list index out of range"
     ]
    }
   ],
   "source": [
    "merge_sort_internal([6, 5, 12, 10, 9, 1])"
   ]
  },
  {
   "cell_type": "code",
   "execution_count": null,
   "metadata": {},
   "outputs": [],
   "source": []
  }
 ],
 "metadata": {
  "interpreter": {
   "hash": "98f4169da4bd944cb854e48b84b892ce91f50ecd6cbb0d2fcee6d3478e42636c"
  },
  "kernelspec": {
   "display_name": "Python 3.8.0 64-bit ('pytorch': conda)",
   "name": "python3"
  },
  "language_info": {
   "codemirror_mode": {
    "name": "ipython",
    "version": 3
   },
   "file_extension": ".py",
   "mimetype": "text/x-python",
   "name": "python",
   "nbconvert_exporter": "python",
   "pygments_lexer": "ipython3",
   "version": "3.8.0"
  },
  "orig_nbformat": 4
 },
 "nbformat": 4,
 "nbformat_minor": 2
}
