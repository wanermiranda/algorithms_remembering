{
 "cells": [
  {
   "cell_type": "code",
   "execution_count": 1,
   "id": "0b43d686",
   "metadata": {},
   "outputs": [],
   "source": [
    "from functools import partial \n",
    "from typing import Tuple\n",
    "\n",
    "class Node:\n",
    "    def __init__(self, key, value):\n",
    "        self.key = key\n",
    "        self.value = value\n",
    "        self.next = None\n",
    "        \n",
    "\n",
    "class HashMap:\n",
    "    def __init__(self, size=32):\n",
    "        self._size = 32\n",
    "        self.clear_store()\n",
    "        self._hash_func = lambda k, size=self._size: hash(k) % size\n",
    "    \n",
    "    \n",
    "    def clear_store(self):\n",
    "        self._store = [None] * self._size\n",
    "\n",
    "    def _index_get(self, key) -> Tuple[int, Node]:\n",
    "        index = self._hash_func(key)\n",
    "        if index >= self._size or index < 0:\n",
    "            return None, None\n",
    "        else: \n",
    "            return index, self._store[index]\n",
    "        \n",
    "    def _put_in_list(self, node) -> int:\n",
    "        \n",
    "        index = self._hash_func(node.key)\n",
    "        \n",
    "        if index >= self._size or index < 0:\n",
    "            return \n",
    "        else: \n",
    "            if not self._store[index]:\n",
    "                self._store[index] = node\n",
    "            else:\n",
    "                lst_node = self._store[index]\n",
    "                \n",
    "                while lst_node.next: \n",
    "                    lst_node = lst_node.next\n",
    "                \n",
    "                lst_node.next = node\n",
    "                \n",
    "        return index\n",
    "\n",
    "    def _find_in_list(self, node:Node, key:str):\n",
    "        \n",
    "        def check_if_exists(node):\n",
    "            return None if not node.key == key else node\n",
    "        \n",
    "        prev_node = None\n",
    "        \n",
    "        result = check_if_exists(node)\n",
    "        \n",
    "        while node and not result:\n",
    "            prev_node = node\n",
    "            node = node.next\n",
    "            if node:\n",
    "                result = check_if_exists(node)\n",
    "\n",
    "        return result, prev_node\n",
    "        \n",
    "    def get(self, key:str):\n",
    "        idx, node = self._index_get(key)\n",
    "        if node:\n",
    "            result_node, _ = self._find_in_list(node, key)\n",
    "            if result_node:\n",
    "                return result_node.value\n",
    "        return None\n",
    "    \n",
    "    def pop(self, key:str):\n",
    "        idx, node = self._index_get(key)\n",
    "        if node:\n",
    "            result_node, prev_node = self._find_in_list(node, key)\n",
    "            if prev_node:\n",
    "                prev_node.next = result_node.next\n",
    "            else:\n",
    "                self._store[idx] = None\n",
    "                \n",
    "            if result_node:\n",
    "                return result_node.value\n",
    "        return None\n",
    "    \n",
    "    def put(self, key:str, value) -> int:\n",
    "        node = Node(key, value)\n",
    "        return self._put_in_list(node)\n",
    "        "
   ]
  },
  {
   "cell_type": "code",
   "execution_count": 2,
   "id": "fea8822e",
   "metadata": {},
   "outputs": [],
   "source": [
    "hmap = HashMap(size=32)"
   ]
  },
  {
   "cell_type": "code",
   "execution_count": 3,
   "id": "f45b2aeb",
   "metadata": {},
   "outputs": [
    {
     "data": {
      "text/plain": [
       "18"
      ]
     },
     "execution_count": 3,
     "metadata": {},
     "output_type": "execute_result"
    }
   ],
   "source": [
    "hmap.put(\"12\", 42)"
   ]
  },
  {
   "cell_type": "code",
   "execution_count": 4,
   "id": "ababbccb",
   "metadata": {},
   "outputs": [],
   "source": [
    "assert hmap.get(\"12\") == 42"
   ]
  },
  {
   "cell_type": "code",
   "execution_count": 5,
   "id": "43c7d54f",
   "metadata": {},
   "outputs": [],
   "source": [
    "hmap.clear_store()\n",
    "assert all([not node for node in hmap._store])"
   ]
  },
  {
   "cell_type": "code",
   "execution_count": 6,
   "id": "1eb871c1",
   "metadata": {},
   "outputs": [],
   "source": [
    "hmap.clear_store()\n",
    "for i in range(0, 1024):\n",
    "    key = 'daddfadkaka' + str(i)\n",
    "#     print(key)\n",
    "    hmap.put(key, i)\n",
    "    assert hmap.get(key) == i\n",
    "    if i % 3 == 0:\n",
    "        hmap.pop(key)\n",
    "#         print(hmap.get(key))\n",
    "        assert not hmap.get(key)"
   ]
  },
  {
   "cell_type": "code",
   "execution_count": null,
   "id": "20b36a92",
   "metadata": {},
   "outputs": [],
   "source": []
  }
 ],
 "metadata": {
  "kernelspec": {
   "display_name": "Python 3 (ipykernel)",
   "language": "python",
   "name": "python3"
  },
  "language_info": {
   "codemirror_mode": {
    "name": "ipython",
    "version": 3
   },
   "file_extension": ".py",
   "mimetype": "text/x-python",
   "name": "python",
   "nbconvert_exporter": "python",
   "pygments_lexer": "ipython3",
   "version": "3.8.10"
  }
 },
 "nbformat": 4,
 "nbformat_minor": 5
}
