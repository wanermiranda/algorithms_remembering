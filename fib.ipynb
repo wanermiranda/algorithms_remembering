{
 "cells": [
  {
   "cell_type": "code",
   "execution_count": 49,
   "id": "17a17112",
   "metadata": {},
   "outputs": [],
   "source": [
    "def fib(n, memo = {1:1, 2:1}):\n",
    "    if n <= 0: \n",
    "        return \n",
    "    if not memo.get(n):\n",
    "        memo[n] = fib(n-1, memo) + fib(n-2, memo)  \n",
    "    return memo[n]"
   ]
  },
  {
   "cell_type": "code",
   "execution_count": 50,
   "id": "12f0ebbd",
   "metadata": {},
   "outputs": [],
   "source": [
    "assert not fib(0)"
   ]
  },
  {
   "cell_type": "code",
   "execution_count": 51,
   "id": "07de54a8",
   "metadata": {},
   "outputs": [],
   "source": [
    "assert fib(1) == 1 and fib(2) == 1 and fib(3) == 2 and fib(4) == 3 and fib(5) == 5"
   ]
  },
  {
   "cell_type": "code",
   "execution_count": 53,
   "id": "e6cca985",
   "metadata": {},
   "outputs": [
    {
     "name": "stdout",
     "output_type": "stream",
     "text": [
      "1 1\n",
      "2 1\n",
      "3 2\n",
      "4 3\n",
      "5 5\n",
      "6 8\n",
      "7 13\n",
      "8 21\n",
      "9 34\n",
      "10 55\n",
      "11 89\n",
      "12 144\n",
      "13 233\n",
      "14 377\n",
      "15 610\n",
      "16 987\n",
      "17 1597\n",
      "18 2584\n",
      "19 4181\n"
     ]
    }
   ],
   "source": [
    "for i in range(1, 20, 1):\n",
    "    print(i, fib(i))"
   ]
  },
  {
   "cell_type": "code",
   "execution_count": 54,
   "id": "46f903d0",
   "metadata": {},
   "outputs": [],
   "source": [
    "# O(2^n) O(n) - free(m) when return \n",
    "# O(2n) == O(n); O(n)"
   ]
  },
  {
   "cell_type": "code",
   "execution_count": null,
   "id": "007144fd",
   "metadata": {},
   "outputs": [],
   "source": []
  }
 ],
 "metadata": {
  "interpreter": {
   "hash": "98f4169da4bd944cb854e48b84b892ce91f50ecd6cbb0d2fcee6d3478e42636c"
  },
  "kernelspec": {
   "display_name": "Python 3.8.0 64-bit ('pytorch': conda)",
   "name": "python3"
  },
  "language_info": {
   "codemirror_mode": {
    "name": "ipython",
    "version": 3
   },
   "file_extension": ".py",
   "mimetype": "text/x-python",
   "name": "python",
   "nbconvert_exporter": "python",
   "pygments_lexer": "ipython3",
   "version": "3.8.0"
  }
 },
 "nbformat": 4,
 "nbformat_minor": 5
}
